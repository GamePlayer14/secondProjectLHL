Build a regression model.

  from sklearn.model_selection import train_test_split
  
  X = dfFinal[['latitude','longitude', 'free_bikes','empty_slots','total_bikes']]
  Y = dfFinal['avg_distance']
  
  X_train, X_test, Y_train, Y_test = train_test_split(X, Y, test_size=0.3, random_state=42)
  
  from sklearn.linear_model import LinearRegression
  
  lm.fit(X_train,Y_train)
  
  predictions = lm.predict(X_test)

Provide model output and an interpretation of the results. 

  
