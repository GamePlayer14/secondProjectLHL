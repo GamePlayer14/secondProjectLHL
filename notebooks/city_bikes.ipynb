Send a request to CityBikes for the city of your choice.
  
  response = requests.get("http://api.citybik.es/v2/networks")
  
  response = requests.get(f"http://api.citybik.es/v2/networks/abu-dhabi-careem-bike").json()

Parse through the response to get the details you want for the bike stations in that city (latitude, longitude, number of bikes).

  for st in df:
          tempdf = pd.DataFrame(st,index = [0])
          tempdf = tempdf[['id','name','latitude','longitude','free_bikes','empty_slots']]
          df = pd.concat([df,tempdf])

Put your parsed results into a DataFrame.

  df = pd.json_normalize(response['network']['stations'])
