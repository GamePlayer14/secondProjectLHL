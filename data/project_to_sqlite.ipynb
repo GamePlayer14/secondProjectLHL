{
 "cells": [
  {
   "cell_type": "code",
   "execution_count": 32,
   "id": "395fcfae-acc0-4a9e-80f3-365022dc1aec",
   "metadata": {},
   "outputs": [],
   "source": [
    "import sqlite3\n",
    "from sqlite3 import Error\n",
    "import pandas as pd\n",
    "\n",
    "def create_connection(path):\n",
    "    connection = None\n",
    "    try:\n",
    "        connection = sqlite3.connect(path)\n",
    "        print('Connection to SQLite DB successful')\n",
    "    except Error as e:\n",
    "        print(f\"The error '{e}' occurred\")\n",
    "\n",
    "    return connection"
   ]
  },
  {
   "cell_type": "code",
   "execution_count": 9,
   "id": "4391acc3-b1d3-4197-8ec8-a083bfc6cead",
   "metadata": {},
   "outputs": [
    {
     "name": "stdout",
     "output_type": "stream",
     "text": [
      "Connection to SQLite DB successful\n"
     ]
    }
   ],
   "source": [
    "conn = create_connection('project_db.db')\n"
   ]
  },
  {
   "cell_type": "code",
   "execution_count": 15,
   "id": "dec205d3-0277-4bc3-83d3-158db59d12d5",
   "metadata": {},
   "outputs": [],
   "source": [
    "def execute_query(connection, query):\n",
    "    cursor = connection.cursor()\n",
    "    try:\n",
    "        cursor.execute(query)\n",
    "        connection.commit()\n",
    "        print('Query executed successfully')\n",
    "    except Error as e:\n",
    "        print(f\"The error '{e}' occurred\")"
   ]
  },
  {
   "cell_type": "code",
   "execution_count": 17,
   "id": "21eca1ac-030d-4802-a880-4fb7fefadc0f",
   "metadata": {},
   "outputs": [],
   "source": [
    "\n",
    "create_table = '''\n",
    "CREATE TABLE IF NOT EXISTS project_table (\n",
    "    latitude FLOAT,\n",
    "    longitude FLOAT,\n",
    "    free_bikes INTEGER,\n",
    "    empty_slots INTEGER,\n",
    "    avg_distance FLOAT,\n",
    "    total_bikes INTEGER\n",
    ");\n",
    "'''\n"
   ]
  },
  {
   "cell_type": "code",
   "execution_count": 19,
   "id": "d124ce68-56c1-4bec-81c7-a7e5ce98bc57",
   "metadata": {},
   "outputs": [
    {
     "name": "stdout",
     "output_type": "stream",
     "text": [
      "Query executed successfully\n"
     ]
    }
   ],
   "source": [
    "execute_query(conn, create_table)"
   ]
  },
  {
   "cell_type": "code",
   "execution_count": 28,
   "id": "f6992dba-9ffd-4d6c-b005-1ccf74e2c577",
   "metadata": {},
   "outputs": [],
   "source": [
    "def execute_read_query(connection, query):\n",
    "    cursor = connection.cursor()\n",
    "    result = None\n",
    "    try:\n",
    "        cursor.execute(query)\n",
    "        result = cursor.fetchall()\n",
    "        return result\n",
    "    except Error as e:\n",
    "        print(f\"The error '{e}' occurred\")"
   ]
  },
  {
   "cell_type": "code",
   "execution_count": 55,
   "id": "fb901dfc-0482-4ff2-9560-05946c49df26",
   "metadata": {},
   "outputs": [
    {
     "name": "stdout",
     "output_type": "stream",
     "text": [
      "Query executed successfully\n",
      "Query executed successfully\n",
      "Query executed successfully\n",
      "Query executed successfully\n",
      "Query executed successfully\n",
      "Query executed successfully\n",
      "Query executed successfully\n",
      "Query executed successfully\n",
      "Query executed successfully\n",
      "Query executed successfully\n",
      "Query executed successfully\n",
      "Query executed successfully\n",
      "Query executed successfully\n",
      "Query executed successfully\n",
      "Query executed successfully\n",
      "Query executed successfully\n",
      "Query executed successfully\n",
      "Query executed successfully\n",
      "Query executed successfully\n",
      "Query executed successfully\n",
      "Query executed successfully\n",
      "Query executed successfully\n",
      "Query executed successfully\n"
     ]
    }
   ],
   "source": [
    "f = pd.read_csv('csvFinal.csv')\n",
    "for x in range(0,len(f.index)):\n",
    "    row = f.iloc[x]\n",
    "    query = '''\n",
    "    INSERT INTO \n",
    "        project_table(latitude,longitude,free_bikes,empty_slots,avg_distance,total_bikes)\n",
    "    VALUES\n",
    "        ({},{},{},{},{},{})\n",
    "    '''.format(str(row.latitude),str(row.longitude),str(row.free_bikes),str(row.empty_slots),str(row.avg_distance),str(row.total_bikes))\n",
    "    execute_query(conn,query)"
   ]
  },
  {
   "cell_type": "code",
   "execution_count": 61,
   "id": "5c208507-a24d-4c9c-90c1-1e559886cca0",
   "metadata": {},
   "outputs": [
    {
     "data": {
      "text/plain": [
       "[(24.451202, 54.33451),\n",
       " (24.456953, 54.6157541),\n",
       " (24.465954, 54.5983051),\n",
       " (24.486103, 54.350087),\n",
       " (24.452079, 54.604651),\n",
       " (24.465793, 54.60961),\n",
       " (24.46568, 54.328189),\n",
       " (24.465272, 54.328835),\n",
       " (24.4301018, 54.6222247),\n",
       " (24.471234, 54.323041),\n",
       " (24.496565, 54.408766),\n",
       " (24.495664, 54.358364),\n",
       " (24.4736005, 54.3411577),\n",
       " (24.485254, 54.608061),\n",
       " (24.493276, 54.408307),\n",
       " (24.456118, 54.318692),\n",
       " (24.496235, 54.373636),\n",
       " (24.5195, 54.367972),\n",
       " (24.49209, 54.366101),\n",
       " (24.450142, 54.6052761),\n",
       " (24.498709, 54.368072),\n",
       " (24.507333, 54.3763),\n",
       " (24.48809, 54.356111)]"
      ]
     },
     "execution_count": 61,
     "metadata": {},
     "output_type": "execute_result"
    }
   ],
   "source": [
    "execute_read_query(conn, 'SELECT latitude,longitude FROM project_table')"
   ]
  },
  {
   "cell_type": "code",
   "execution_count": 47,
   "id": "d95a270e-e5c5-48ef-a986-363f1edb85e9",
   "metadata": {},
   "outputs": [
    {
     "name": "stdout",
     "output_type": "stream",
     "text": [
      "Unnamed: 0\n",
      "latitude\n",
      "longitude\n",
      "free_bikes\n",
      "empty_slots\n",
      "avg_distance\n",
      "total_bikes\n"
     ]
    }
   ],
   "source": [
    "for row in f:\n",
    "    print(row)"
   ]
  },
  {
   "cell_type": "code",
   "execution_count": null,
   "id": "3c96d50c-af5d-499d-92cd-47c2963b022c",
   "metadata": {},
   "outputs": [],
   "source": []
  }
 ],
 "metadata": {
  "kernelspec": {
   "display_name": "LHL_Env",
   "language": "python",
   "name": "lhl_env"
  },
  "language_info": {
   "codemirror_mode": {
    "name": "ipython",
    "version": 3
   },
   "file_extension": ".py",
   "mimetype": "text/x-python",
   "name": "python",
   "nbconvert_exporter": "python",
   "pygments_lexer": "ipython3",
   "version": "3.12.7"
  }
 },
 "nbformat": 4,
 "nbformat_minor": 5
}
